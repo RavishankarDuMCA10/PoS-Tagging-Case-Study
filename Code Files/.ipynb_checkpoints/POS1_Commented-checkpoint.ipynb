{
 "cells": [
  {
   "cell_type": "markdown",
   "metadata": {
    "id": "OKcXwoZHurtB"
   },
   "source": [
    "## Importing libraries"
   ]
  },
  {
   "cell_type": "code",
   "execution_count": 1,
   "metadata": {
    "id": "r5zWwc1_urtR"
   },
   "outputs": [],
   "source": [
    "# Import libraries\n",
    "import pandas as pd\n",
    "import numpy as np\n",
    "import os"
   ]
  },
  {
   "cell_type": "markdown",
   "metadata": {
    "id": "Bd28EuN3urtT"
   },
   "source": [
    "### How do we identify product features?\n",
    "<img src = \"./images/keywords.png\">"
   ]
  },
  {
   "cell_type": "code",
   "execution_count": 3,
   "metadata": {
    "id": "5zP8A4ysurtU"
   },
   "outputs": [],
   "source": [
    "sent1 = \"I loved the screen on this phone.\"\n",
    "sent2 = \"The battery life on this phone is great.\"\n",
    "sent3 = \"The speakers are pathetic.\""
   ]
  },
  {
   "cell_type": "markdown",
   "metadata": {
    "id": "CT_yMlbiurtV"
   },
   "source": [
    "### Lets do a POS parse and see if we can figure out some patterns."
   ]
  },
  {
   "cell_type": "code",
   "execution_count": 4,
   "metadata": {
    "id": "XYXVM2CrurtW"
   },
   "outputs": [],
   "source": [
    "# import Spacy and load model.\n",
    "import spacy\n",
    "model = spacy.load(\"en_core_web_sm\")"
   ]
  },
  {
   "cell_type": "code",
   "execution_count": 5,
   "metadata": {
    "colab": {
     "base_uri": "https://localhost:8080/"
    },
    "id": "kD53XzhEurtX",
    "outputId": "26d27532-d441-4fe9-dfe4-fa4f6418f795"
   },
   "outputs": [
    {
     "name": "stdout",
     "output_type": "stream",
     "text": [
      "I -- PRON -- PRP\n",
      "loved -- VERB -- VBD\n",
      "the -- DET -- DT\n",
      "screen -- NOUN -- NN\n",
      "on -- ADP -- IN\n",
      "this -- DET -- DT\n",
      "phone -- NOUN -- NN\n"
     ]
    }
   ],
   "source": [
    "# Print the PoS tag of sent1\n",
    "tokens = model(\"I loved the screen on this phone\")\n",
    "for token in tokens:\n",
    "  print(token.text, \"--\", token.pos_, \"--\", token.tag_)"
   ]
  },
  {
   "cell_type": "code",
   "execution_count": 6,
   "metadata": {
    "colab": {
     "base_uri": "https://localhost:8080/"
    },
    "id": "RAHWa3uturtZ",
    "outputId": "d65906e7-b0b5-40bc-d253-d1f6b7ef4185"
   },
   "outputs": [
    {
     "name": "stdout",
     "output_type": "stream",
     "text": [
      "The -- DET -- DT\n",
      "battery -- NOUN -- NN\n",
      "life -- NOUN -- NN\n",
      "on -- ADP -- IN\n",
      "this -- DET -- DT\n",
      "phone -- NOUN -- NN\n",
      "is -- AUX -- VBZ\n",
      "great -- ADJ -- JJ\n"
     ]
    }
   ],
   "source": [
    "# Print the PoS tag of sent2\n",
    "tokens = model(\"The battery life on this phone is great\")\n",
    "for token in tokens:\n",
    "  print(token.text, \"--\", token.pos_, \"--\", token.tag_)"
   ]
  },
  {
   "cell_type": "code",
   "execution_count": 7,
   "metadata": {
    "colab": {
     "base_uri": "https://localhost:8080/"
    },
    "id": "5z-Q-Rakurta",
    "outputId": "b99f52da-1813-42ff-99df-2c36f3d31eba"
   },
   "outputs": [
    {
     "name": "stdout",
     "output_type": "stream",
     "text": [
      "The -- DET -- DT\n",
      "speakers -- NOUN -- NNS\n",
      "are -- AUX -- VBP\n",
      "pathetic -- ADJ -- JJ\n"
     ]
    }
   ],
   "source": [
    "# Print the PoS tag of sent3\n",
    "tokens = model(\"The speakers are pathetic\")\n",
    "for token in tokens:\n",
    "  print(token.text, \"--\", token.pos_, \"--\", token.tag_)"
   ]
  },
  {
   "cell_type": "markdown",
   "metadata": {
    "id": "EWh298c3urte"
   },
   "source": [
    "#### **Product features such as `screen`, `battery`, `speaker` have a POS tag of NOUN**"
   ]
  },
  {
   "cell_type": "markdown",
   "metadata": {
    "id": "XrtRHVfUurtf"
   },
   "source": [
    "## Summary\n",
    "- Product features such as `screen`, `battery` and `speaker` have a POS tag of Noun\n",
    "- If we can find the frequency count of all the nouns in our data, then by looking at top-n nouns we can find out what product features people are talking about\n",
    "- Check hypothesis on a real world dataset"
   ]
  }
 ],
 "metadata": {
  "colab": {
   "provenance": []
  },
  "kernelspec": {
   "display_name": "Python 3 (ipykernel)",
   "language": "python",
   "name": "python3"
  },
  "language_info": {
   "codemirror_mode": {
    "name": "ipython",
    "version": 3
   },
   "file_extension": ".py",
   "mimetype": "text/x-python",
   "name": "python",
   "nbconvert_exporter": "python",
   "pygments_lexer": "ipython3",
   "version": "3.11.4"
  }
 },
 "nbformat": 4,
 "nbformat_minor": 1
}
