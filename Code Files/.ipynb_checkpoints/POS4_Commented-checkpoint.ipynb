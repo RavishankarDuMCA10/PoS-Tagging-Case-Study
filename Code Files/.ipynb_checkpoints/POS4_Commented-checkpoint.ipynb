{
 "cells": [
  {
   "cell_type": "markdown",
   "metadata": {
    "id": "npY9MI1yIyK8"
   },
   "source": [
    "## Importing libraries"
   ]
  },
  {
   "cell_type": "code",
   "execution_count": null,
   "metadata": {
    "id": "xp8j7pqtIyLC"
   },
   "outputs": [],
   "source": [
    "import pandas as pd\n",
    "import numpy as np\n",
    "from tqdm import tqdm"
   ]
  },
  {
   "cell_type": "markdown",
   "metadata": {
    "id": "Xr_U2bl3IyLD"
   },
   "source": [
    "### Read reviews data"
   ]
  },
  {
   "cell_type": "code",
   "execution_count": null,
   "metadata": {
    "id": "fFKFirMfIyLE"
   },
   "outputs": [],
   "source": [
    "con=open(\"../data/Samsung.txt\",'r', encoding=\"utf-8\")\n",
    "samsung_reviews=con.read()\n",
    "con.close()"
   ]
  },
  {
   "cell_type": "markdown",
   "metadata": {
    "id": "euxL-gvSIyLE"
   },
   "source": [
    "<img src = \"./images/results.png\">"
   ]
  },
  {
   "cell_type": "markdown",
   "metadata": {
    "id": "d_YiSRgnIyLE"
   },
   "source": [
    "<img src = \"./images/keywords.png\">"
   ]
  },
  {
   "cell_type": "markdown",
   "metadata": {
    "id": "kjQbVocSIyLF"
   },
   "source": [
    "### We can use a simple hueristic\n",
    " - Find out what were the most common words that appeared before and after each mention of `product feature`\n",
    " - Use regex pattern to extract this information"
   ]
  },
  {
   "cell_type": "code",
   "execution_count": null,
   "metadata": {
    "id": "2sUkmQxMIyLF"
   },
   "outputs": [],
   "source": []
  },
  {
   "cell_type": "markdown",
   "metadata": {
    "id": "mJ-h6iY9IyLF"
   },
   "source": [
    "The `battery` was ===> Prefix `keyword` Suffix"
   ]
  },
  {
   "cell_type": "markdown",
   "metadata": {
    "id": "Ut-xNj9TIyLG"
   },
   "source": [
    "![image.png](attachment:9b4e9e8f-7d79-4d31-b370-44726e017a96.png)<img src=\"./images/regex.png\">"
   ]
  },
  {
   "cell_type": "code",
   "execution_count": null,
   "metadata": {
    "id": "9CKpNcqOIyLG"
   },
   "outputs": [],
   "source": []
  },
  {
   "cell_type": "code",
   "execution_count": null,
   "metadata": {
    "id": "NfKD33r3IyLG"
   },
   "outputs": [],
   "source": []
  },
  {
   "cell_type": "code",
   "execution_count": null,
   "metadata": {
    "id": "3YUowmHPIyLH"
   },
   "outputs": [],
   "source": []
  },
  {
   "cell_type": "code",
   "execution_count": null,
   "metadata": {
    "id": "KlSmNzRZIyLI"
   },
   "outputs": [],
   "source": []
  },
  {
   "cell_type": "code",
   "execution_count": null,
   "metadata": {
    "id": "QVMGhLTDIyLI"
   },
   "outputs": [],
   "source": []
  },
  {
   "cell_type": "code",
   "execution_count": null,
   "metadata": {
    "id": "f3aAJ83iIyLI"
   },
   "outputs": [],
   "source": []
  },
  {
   "cell_type": "markdown",
   "metadata": {
    "id": "NhNY_nmIIyLI"
   },
   "source": [
    "#### Extract all the prefixes and suffixes of `battery`"
   ]
  },
  {
   "cell_type": "code",
   "execution_count": null,
   "metadata": {
    "id": "u9dcEALnIyLJ"
   },
   "outputs": [],
   "source": []
  },
  {
   "cell_type": "code",
   "execution_count": null,
   "metadata": {
    "id": "LXh3QNXBIyLJ"
   },
   "outputs": [],
   "source": []
  },
  {
   "cell_type": "code",
   "execution_count": null,
   "metadata": {
    "id": "o8KOaRWHIyLJ"
   },
   "outputs": [],
   "source": []
  },
  {
   "cell_type": "code",
   "execution_count": null,
   "metadata": {
    "id": "NnH0ufoPIyLK"
   },
   "outputs": [],
   "source": []
  },
  {
   "cell_type": "code",
   "execution_count": null,
   "metadata": {
    "id": "otmFHjwxIyLK"
   },
   "outputs": [],
   "source": []
  },
  {
   "cell_type": "code",
   "execution_count": null,
   "metadata": {
    "id": "7WO2U1VkIyLK"
   },
   "outputs": [],
   "source": []
  },
  {
   "cell_type": "markdown",
   "metadata": {
    "id": "K8-eOehUIyLK"
   },
   "source": [
    "### This doesn't make much sense as these are commonly used words. Let's remove `stopwords` and see what we get\n",
    "\n",
    "<a href = \"https://gist.github.com/sebleier/554280\">Get Stop Words</a>"
   ]
  },
  {
   "cell_type": "code",
   "execution_count": null,
   "metadata": {
    "id": "mfnu7JtWIyLL"
   },
   "outputs": [],
   "source": []
  },
  {
   "cell_type": "code",
   "execution_count": null,
   "metadata": {
    "id": "jb6x_CBKIyLL"
   },
   "outputs": [],
   "source": []
  },
  {
   "cell_type": "code",
   "execution_count": null,
   "metadata": {
    "id": "rr7m8JRaIyLL"
   },
   "outputs": [],
   "source": []
  },
  {
   "cell_type": "code",
   "execution_count": null,
   "metadata": {
    "id": "NVemqXK7IyLL"
   },
   "outputs": [],
   "source": []
  },
  {
   "cell_type": "markdown",
   "metadata": {
    "id": "Nn55qmL3IyLM"
   },
   "source": [
    "### Lets pretty print"
   ]
  },
  {
   "cell_type": "code",
   "execution_count": null,
   "metadata": {
    "id": "-MFkaGYBIyLM"
   },
   "outputs": [],
   "source": []
  },
  {
   "cell_type": "code",
   "execution_count": null,
   "metadata": {
    "id": "1aZAVsDyIyLM"
   },
   "outputs": [],
   "source": []
  },
  {
   "cell_type": "markdown",
   "metadata": {
    "id": "amgt8bWIIyLM"
   },
   "source": [
    "### Lets put all this logic in a function"
   ]
  },
  {
   "cell_type": "code",
   "execution_count": null,
   "metadata": {
    "id": "lboxswARIyLN"
   },
   "outputs": [],
   "source": []
  },
  {
   "cell_type": "code",
   "execution_count": null,
   "metadata": {
    "id": "dOHGwpp6IyLN"
   },
   "outputs": [],
   "source": []
  },
  {
   "cell_type": "code",
   "execution_count": null,
   "metadata": {
    "id": "JdqO0FJFIyLN"
   },
   "outputs": [],
   "source": []
  },
  {
   "cell_type": "markdown",
   "metadata": {
    "id": "IPl2YjseIyLN"
   },
   "source": [
    "## Summary:\n",
    "    - Simple hueristics sometime are very usefull\n",
    "    - Regex can be life saviours\n",
    "    - Don't forget to use simple text processing while trying to solve a non-trival problem"
   ]
  },
  {
   "cell_type": "code",
   "execution_count": null,
   "metadata": {
    "id": "0BQ5J8f2IyLO"
   },
   "outputs": [],
   "source": []
  }
 ],
 "metadata": {
  "colab": {
   "name": "POS4_Commented.ipynb",
   "provenance": []
  },
  "kernelspec": {
   "display_name": "Python 3 (ipykernel)",
   "language": "python",
   "name": "python3"
  },
  "language_info": {
   "codemirror_mode": {
    "name": "ipython",
    "version": 3
   },
   "file_extension": ".py",
   "mimetype": "text/x-python",
   "name": "python",
   "nbconvert_exporter": "python",
   "pygments_lexer": "ipython3",
   "version": "3.11.4"
  }
 },
 "nbformat": 4,
 "nbformat_minor": 1
}
