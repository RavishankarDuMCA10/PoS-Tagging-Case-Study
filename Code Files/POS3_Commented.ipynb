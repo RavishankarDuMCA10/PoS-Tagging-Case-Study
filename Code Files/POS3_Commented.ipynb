{
  "nbformat": 4,
  "nbformat_minor": 0,
  "metadata": {
    "kernelspec": {
      "display_name": "Python 3",
      "language": "python",
      "name": "python3"
    },
    "language_info": {
      "codemirror_mode": {
        "name": "ipython",
        "version": 3
      },
      "file_extension": ".py",
      "mimetype": "text/x-python",
      "name": "python",
      "nbconvert_exporter": "python",
      "pygments_lexer": "ipython3",
      "version": "3.8.3"
    },
    "colab": {
      "provenance": []
    }
  },
  "cells": [
    {
      "cell_type": "markdown",
      "metadata": {
        "id": "vBOfYpV_U84V"
      },
      "source": [
        "## Importing libraries"
      ]
    },
    {
      "cell_type": "code",
      "metadata": {
        "id": "ZqugswuAU84a"
      },
      "source": [
        "import pandas as pd\n",
        "import numpy as np\n",
        "import os\n",
        "import spacy\n",
        "from tqdm import tqdm"
      ],
      "execution_count": 1,
      "outputs": []
    },
    {
      "cell_type": "markdown",
      "metadata": {
        "id": "7cD099pXU84b"
      },
      "source": [
        "### Read reviews data"
      ]
    },
    {
      "cell_type": "code",
      "metadata": {
        "id": "7biN0zEoU84c"
      },
      "source": [
        "# con=open(\"../data/Samsung.txt\",'r', encoding=\"utf-8\")\n",
        "con=open(\"Samsung.txt\",'r', encoding=\"utf-8\")\n",
        "samsung_reviews=con.read()\n",
        "con.close()"
      ],
      "execution_count": 2,
      "outputs": []
    },
    {
      "cell_type": "markdown",
      "metadata": {
        "id": "ZVK2nZJ9U84c"
      },
      "source": [
        "### Can we reduce the time taken?\n",
        "[Pipelines (Spacy)](https://spacy.io/usage/processing-pipelines)\n"
      ]
    },
    {
      "cell_type": "markdown",
      "metadata": {
        "id": "bU_dNtImU84d"
      },
      "source": [
        "<img src='./images/spacy_pipeline.png'>"
      ]
    },
    {
      "cell_type": "code",
      "metadata": {
        "id": "XQd_68ZuU84d"
      },
      "source": [
        "# shorten the pipline loading\n",
        "nlp=spacy.load('en_core_web_sm', disable=['parser', 'ner'])"
      ],
      "execution_count": 3,
      "outputs": []
    },
    {
      "cell_type": "code",
      "metadata": {
        "id": "grYm28A9U84e",
        "colab": {
          "base_uri": "https://localhost:8080/"
        },
        "outputId": "0bfe686d-7f8e-416f-8a96-efe5027405f0"
      },
      "source": [
        "nouns = []\n",
        "for review in tqdm(samsung_reviews.split(\"\\n\")[0:1000]):\n",
        "  doc = nlp(review)\n",
        "  for tok in doc:\n",
        "    if tok.pos_ == \"NOUN\":\n",
        "      nouns.append(tok.lemma_.lower())"
      ],
      "execution_count": 5,
      "outputs": [
        {
          "output_type": "stream",
          "name": "stderr",
          "text": [
            "100%|██████████| 1000/1000 [00:07<00:00, 135.66it/s]\n"
          ]
        }
      ]
    },
    {
      "cell_type": "code",
      "metadata": {
        "id": "KIqUMEsuU84g",
        "colab": {
          "base_uri": "https://localhost:8080/"
        },
        "outputId": "4e5490b1-9123-40c2-fff6-b7b26a54595d"
      },
      "source": [
        "len(samsung_reviews.split(\"\\n\"))"
      ],
      "execution_count": 6,
      "outputs": [
        {
          "output_type": "execute_result",
          "data": {
            "text/plain": [
              "46355"
            ]
          },
          "metadata": {},
          "execution_count": 6
        }
      ]
    },
    {
      "cell_type": "code",
      "metadata": {
        "id": "WaN7ver8U84h",
        "colab": {
          "base_uri": "https://localhost:8080/"
        },
        "outputId": "1f41d850-5dfb-4d5c-cf78-00ea4c4bdd42"
      },
      "source": [
        "(46355/1000)*6"
      ],
      "execution_count": 7,
      "outputs": [
        {
          "output_type": "execute_result",
          "data": {
            "text/plain": [
              "278.13"
            ]
          },
          "metadata": {},
          "execution_count": 7
        }
      ]
    },
    {
      "cell_type": "code",
      "metadata": {
        "id": "qMmMUUHjU84i",
        "colab": {
          "base_uri": "https://localhost:8080/"
        },
        "outputId": "6a50f340-ee37-4a0c-ff1a-9313a119ef0f"
      },
      "source": [
        "278/60"
      ],
      "execution_count": 8,
      "outputs": [
        {
          "output_type": "execute_result",
          "data": {
            "text/plain": [
              "4.633333333333334"
            ]
          },
          "metadata": {},
          "execution_count": 8
        }
      ]
    },
    {
      "cell_type": "markdown",
      "metadata": {
        "id": "TKKLAcF2U84j"
      },
      "source": [
        "### Lets process all the reviews now and see if time taken is less !!!"
      ]
    },
    {
      "cell_type": "code",
      "metadata": {
        "id": "DpDKMbiuU84k",
        "colab": {
          "base_uri": "https://localhost:8080/"
        },
        "outputId": "0bd58938-ae47-4a4b-f3fd-4bfac395981d"
      },
      "source": [
        "nouns = []\n",
        "for review in tqdm(samsung_reviews.split(\"\\n\")):\n",
        "  doc = nlp(review)\n",
        "  for tok in doc:\n",
        "    if tok.pos_ == \"NOUN\":\n",
        "      nouns.append(tok.lemma_.lower())"
      ],
      "execution_count": 9,
      "outputs": [
        {
          "output_type": "stream",
          "name": "stderr",
          "text": [
            "100%|██████████| 46355/46355 [04:37<00:00, 167.03it/s]\n"
          ]
        }
      ]
    },
    {
      "cell_type": "markdown",
      "metadata": {
        "id": "xDqdFstUU84k"
      },
      "source": [
        "### Does the hypothesis of nouns capturing `product features` hold?"
      ]
    },
    {
      "cell_type": "code",
      "metadata": {
        "id": "6QMCZN6lU84k",
        "colab": {
          "base_uri": "https://localhost:8080/",
          "height": 241
        },
        "outputId": "93d0ce22-9616-4e50-c06d-83d24f9fb99f"
      },
      "source": [
        "nouns = pd.Series(nouns)\n",
        "nouns.value_counts().head(5)"
      ],
      "execution_count": 11,
      "outputs": [
        {
          "output_type": "execute_result",
          "data": {
            "text/plain": [
              "phone      43507\n",
              "battery     4334\n",
              "product     3992\n",
              "screen      3838\n",
              "time        3810\n",
              "Name: count, dtype: int64"
            ],
            "text/html": [
              "<div>\n",
              "<style scoped>\n",
              "    .dataframe tbody tr th:only-of-type {\n",
              "        vertical-align: middle;\n",
              "    }\n",
              "\n",
              "    .dataframe tbody tr th {\n",
              "        vertical-align: top;\n",
              "    }\n",
              "\n",
              "    .dataframe thead th {\n",
              "        text-align: right;\n",
              "    }\n",
              "</style>\n",
              "<table border=\"1\" class=\"dataframe\">\n",
              "  <thead>\n",
              "    <tr style=\"text-align: right;\">\n",
              "      <th></th>\n",
              "      <th>count</th>\n",
              "    </tr>\n",
              "  </thead>\n",
              "  <tbody>\n",
              "    <tr>\n",
              "      <th>phone</th>\n",
              "      <td>43507</td>\n",
              "    </tr>\n",
              "    <tr>\n",
              "      <th>battery</th>\n",
              "      <td>4334</td>\n",
              "    </tr>\n",
              "    <tr>\n",
              "      <th>product</th>\n",
              "      <td>3992</td>\n",
              "    </tr>\n",
              "    <tr>\n",
              "      <th>screen</th>\n",
              "      <td>3838</td>\n",
              "    </tr>\n",
              "    <tr>\n",
              "      <th>time</th>\n",
              "      <td>3810</td>\n",
              "    </tr>\n",
              "  </tbody>\n",
              "</table>\n",
              "</div><br><label><b>dtype:</b> int64</label>"
            ]
          },
          "metadata": {},
          "execution_count": 11
        }
      ]
    },
    {
      "cell_type": "code",
      "metadata": {
        "id": "3ePWgP3hU84l",
        "colab": {
          "base_uri": "https://localhost:8080/",
          "height": 398
        },
        "outputId": "f04776cb-75eb-44ce-f642-c2932a66a34e"
      },
      "source": [
        "nouns.value_counts().head(10)"
      ],
      "execution_count": 12,
      "outputs": [
        {
          "output_type": "execute_result",
          "data": {
            "text/plain": [
              "phone      43507\n",
              "battery     4334\n",
              "product     3992\n",
              "screen      3838\n",
              "time        3810\n",
              "card        3384\n",
              "price       3149\n",
              "problem     3137\n",
              "camera      2936\n",
              "app         2593\n",
              "Name: count, dtype: int64"
            ],
            "text/html": [
              "<div>\n",
              "<style scoped>\n",
              "    .dataframe tbody tr th:only-of-type {\n",
              "        vertical-align: middle;\n",
              "    }\n",
              "\n",
              "    .dataframe tbody tr th {\n",
              "        vertical-align: top;\n",
              "    }\n",
              "\n",
              "    .dataframe thead th {\n",
              "        text-align: right;\n",
              "    }\n",
              "</style>\n",
              "<table border=\"1\" class=\"dataframe\">\n",
              "  <thead>\n",
              "    <tr style=\"text-align: right;\">\n",
              "      <th></th>\n",
              "      <th>count</th>\n",
              "    </tr>\n",
              "  </thead>\n",
              "  <tbody>\n",
              "    <tr>\n",
              "      <th>phone</th>\n",
              "      <td>43507</td>\n",
              "    </tr>\n",
              "    <tr>\n",
              "      <th>battery</th>\n",
              "      <td>4334</td>\n",
              "    </tr>\n",
              "    <tr>\n",
              "      <th>product</th>\n",
              "      <td>3992</td>\n",
              "    </tr>\n",
              "    <tr>\n",
              "      <th>screen</th>\n",
              "      <td>3838</td>\n",
              "    </tr>\n",
              "    <tr>\n",
              "      <th>time</th>\n",
              "      <td>3810</td>\n",
              "    </tr>\n",
              "    <tr>\n",
              "      <th>card</th>\n",
              "      <td>3384</td>\n",
              "    </tr>\n",
              "    <tr>\n",
              "      <th>price</th>\n",
              "      <td>3149</td>\n",
              "    </tr>\n",
              "    <tr>\n",
              "      <th>problem</th>\n",
              "      <td>3137</td>\n",
              "    </tr>\n",
              "    <tr>\n",
              "      <th>camera</th>\n",
              "      <td>2936</td>\n",
              "    </tr>\n",
              "    <tr>\n",
              "      <th>app</th>\n",
              "      <td>2593</td>\n",
              "    </tr>\n",
              "  </tbody>\n",
              "</table>\n",
              "</div><br><label><b>dtype:</b> int64</label>"
            ]
          },
          "metadata": {},
          "execution_count": 12
        }
      ]
    },
    {
      "cell_type": "markdown",
      "metadata": {
        "id": "vMKO-5IvU84m"
      },
      "source": [
        "### We now know that people mention `battery`, `product`, `screen` etc. But we still don't know in what context they mention these keywords"
      ]
    },
    {
      "cell_type": "markdown",
      "metadata": {
        "id": "oP4nyL_AU84m"
      },
      "source": [
        "### Summary:\n",
        " - Most frequently used lemmatised forms of noun, inform us about the product features people are talking about in product reviews\n",
        " - In order to process the review data faster spacy allows us to use the idea of enabling parts of model inference pipeline via `spacy.loads()` command and `disable` parameter"
      ]
    }
  ]
}