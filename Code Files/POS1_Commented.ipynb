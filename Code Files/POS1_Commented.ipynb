{
  "cells": [
    {
      "cell_type": "markdown",
      "metadata": {
        "id": "OKcXwoZHurtB"
      },
      "source": [
        "## Importing libraries"
      ]
    },
    {
      "cell_type": "code",
      "execution_count": 8,
      "metadata": {
        "id": "r5zWwc1_urtR"
      },
      "outputs": [],
      "source": [
        "# Import libraries\n",
        "import pandas as pd\n",
        "import numpy as np\n",
        "import os"
      ]
    },
    {
      "cell_type": "markdown",
      "metadata": {
        "id": "Bd28EuN3urtT"
      },
      "source": [
        "### How do we identify product features?\n",
        "<img src = \"./images/keywords.png\">"
      ]
    },
    {
      "cell_type": "code",
      "execution_count": 9,
      "metadata": {
        "id": "5zP8A4ysurtU"
      },
      "outputs": [],
      "source": [
        "sent1 = \"I loved the screen on this phone.\"\n",
        "sent2 = \"The battery life on this phone is great.\"\n",
        "sent3 = \"The speakers are pathetic.\""
      ]
    },
    {
      "cell_type": "markdown",
      "metadata": {
        "id": "CT_yMlbiurtV"
      },
      "source": [
        "### Lets do a POS parse and see if we can figure out some patterns."
      ]
    },
    {
      "cell_type": "code",
      "execution_count": 10,
      "metadata": {
        "id": "XYXVM2CrurtW"
      },
      "outputs": [],
      "source": [
        "# import Spacy and load model.\n",
        "import spacy\n",
        "model = spacy.load(\"en_core_web_sm\")"
      ]
    },
    {
      "cell_type": "code",
      "execution_count": 14,
      "metadata": {
        "id": "kD53XzhEurtX",
        "colab": {
          "base_uri": "https://localhost:8080/"
        },
        "outputId": "3e2182d1-5ae6-4755-8147-e287b44d81c3"
      },
      "outputs": [
        {
          "output_type": "stream",
          "name": "stdout",
          "text": [
            "I -- PRON\n",
            "loved -- VERB\n",
            "the -- DET\n",
            "screen -- NOUN\n",
            "on -- ADP\n",
            "this -- DET\n",
            "phone -- NOUN\n",
            ". -- PUNCT\n"
          ]
        }
      ],
      "source": [
        "# Print the PoS tag of sent1\n",
        "tokens = model(sent1)\n",
        "for token in tokens:\n",
        "  print(token.text, \"--\", token.pos_)"
      ]
    },
    {
      "cell_type": "code",
      "execution_count": 15,
      "metadata": {
        "id": "RAHWa3uturtZ",
        "colab": {
          "base_uri": "https://localhost:8080/"
        },
        "outputId": "d4325fd1-62ae-493e-df03-a2c0f3a8c520"
      },
      "outputs": [
        {
          "output_type": "stream",
          "name": "stdout",
          "text": [
            "The -- DET\n",
            "battery -- NOUN\n",
            "life -- NOUN\n",
            "on -- ADP\n",
            "this -- DET\n",
            "phone -- NOUN\n",
            "is -- AUX\n",
            "great -- ADJ\n",
            ". -- PUNCT\n"
          ]
        }
      ],
      "source": [
        "# Print the PoS tag of sent2\n",
        "tokens = model(sent2)\n",
        "for token in tokens:\n",
        "  print(token.text, \"--\", token.pos_)"
      ]
    },
    {
      "cell_type": "code",
      "execution_count": 16,
      "metadata": {
        "id": "5z-Q-Rakurta",
        "colab": {
          "base_uri": "https://localhost:8080/"
        },
        "outputId": "c340421b-9daa-4a0c-e6c6-bbfed65816a3"
      },
      "outputs": [
        {
          "output_type": "stream",
          "name": "stdout",
          "text": [
            "The -- DET\n",
            "speakers -- NOUN\n",
            "are -- AUX\n",
            "pathetic -- ADJ\n",
            ". -- PUNCT\n"
          ]
        }
      ],
      "source": [
        "# Print the PoS tag of sent3\n",
        "tokens = model(sent3)\n",
        "for token in tokens:\n",
        "  print(token.text, \"--\", token.pos_)"
      ]
    },
    {
      "cell_type": "markdown",
      "metadata": {
        "id": "EWh298c3urte"
      },
      "source": [
        "#### **Product features such as `screen`, `battery`, `speaker` have a POS tag of NOUN**"
      ]
    },
    {
      "cell_type": "markdown",
      "metadata": {
        "id": "XrtRHVfUurtf"
      },
      "source": [
        "## Summary\n",
        "- Product features such as `screen`, `battery` and `speaker` have a POS tag of Noun\n",
        "- If we can find the frequency count of all the nouns in our data, then by looking at top-n nouns we can find out what product features people are talking about\n",
        "- Check hypothesis on a real world dataset"
      ]
    }
  ],
  "metadata": {
    "colab": {
      "provenance": []
    },
    "kernelspec": {
      "display_name": "Python 3 (ipykernel)",
      "language": "python",
      "name": "python3"
    },
    "language_info": {
      "codemirror_mode": {
        "name": "ipython",
        "version": 3
      },
      "file_extension": ".py",
      "mimetype": "text/x-python",
      "name": "python",
      "nbconvert_exporter": "python",
      "pygments_lexer": "ipython3",
      "version": "3.11.4"
    }
  },
  "nbformat": 4,
  "nbformat_minor": 0
}